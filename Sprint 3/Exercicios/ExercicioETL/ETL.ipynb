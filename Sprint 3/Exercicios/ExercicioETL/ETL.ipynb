{
 "cells": [
  {
   "cell_type": "markdown",
   "metadata": {},
   "source": [
    "# Exercício ETL"
   ]
  },
  {
   "cell_type": "markdown",
   "metadata": {},
   "source": [
    "1. Realizando a leitura do '.csv' e tornando o cabeçalho chaves para a criação do dicionario"
   ]
  },
  {
   "cell_type": "code",
   "execution_count": 1,
   "metadata": {},
   "outputs": [],
   "source": [
    "with open('actors.csv', 'r') as arquivo: #Abre o arquivo no modo de leitura ('r').\n",
    "    linhas = arquivo.readlines() #Lê o arquivo linha por linha e armazena essas linhas em uma lista\n",
    "    #print(linhas)\n",
    "\n",
    "    #separando o cabeçalho para tranformá-lo em keys para o dicionário, strip para remover espaços e quebras de linhas antes e depois, split para separar as colunas \n",
    "    cabecalho = linhas[0].strip().split(',')\n",
    "    #print(cabecalho)\n",
    "    \n",
    "    #criando o dicionário que está vazio\n",
    "    #abrindo uma lista vazia para cada key \n",
    "    dicionario = {chave: [] for chave in cabecalho}\n",
    "    #print(dicionario)"
   ]
  },
  {
   "cell_type": "markdown",
   "metadata": {},
   "source": [
    "2. Associando os valores às chaves do dicionário criado"
   ]
  },
  {
   "cell_type": "code",
   "execution_count": 2,
   "metadata": {},
   "outputs": [
    {
     "name": "stdout",
     "output_type": "stream",
     "text": [
      "{'Actor': ['Harrison Ford', 'Samuel L. Jackson', 'Morgan Freeman', 'Tom Hanks', '\"Robert Downey Jr.\"', 'Eddie Murphy', 'Tom Cruise', 'Johnny Depp', 'Michael Caine', 'Scarlett Johansson', 'Gary Oldman', 'Robin Williams', 'Bruce Willis', 'Stellan Skarsgard', 'Anthony Daniels', 'Ian McKellen', 'Will Smith', 'Stanley Tucci', 'Matt Damon', 'Robert DeNiro', 'Cameron Diaz', 'Liam Neeson', 'Andy Serkis', 'Don Cheadle', 'Ben Stiller', 'Helena Bonham Carter', 'Orlando Bloom', 'Woody Harrelson', 'Cate Blanchett', 'Julia Roberts', 'Elizabeth Banks', 'Ralph Fiennes', 'Emma Watson', 'Tommy Lee Jones', 'Brad Pitt', 'Adam Sandler', 'Daniel Radcliffe', 'Jonah Hill', 'Owen Wilson', 'Idris Elba', 'Bradley Cooper', 'Mark Wahlberg', 'Jim Carrey', 'Dustin Hoffman', 'Leonardo DiCaprio', 'Jeremy Renner', 'Philip Seymour Hoffman', 'Sandra Bullock', 'Chris Evans', 'Anne Hathaway'], 'Total Gross': ['4871.70', '4772.80', '4468.30', '4340.80', '3947.30', '3810.40', '3587.20', '3368.60', '3351.50', '3341.20', '3294.00', '3279.30', '3189.40', '3175.00', '3162.90', '3150.40', '3149.10', '3123.90', '3107.30', '3081.30', '3031.70', '2942.70', '2890.60', '2885.40', '2827.00', '2822.00', '2815.80', '2815.80', '2802.60', '2735.30', '2726.30', '2715.30', '2681.90', '2681.30', '2680.90', '2661.00', '2634.40', '2605.10', '2602.30', '2580.60', '2557.70', '2549.80', '2545.20', '2522.10', '2518.30', '2500.30', '2463.70', '2462.60', '2457.80', '2416.50'], 'Number of Movies': ['41', '69', '61', '44', '53', '38', '36', '45', '58', '37', '38', '49', '60', '43', '7', '31', '24', '50', '39', '79', '34', '63', '23', '34', '37', '36', '17', '50', '39', '42', '35', '36', '17', '46', '40', '32', '17', '29', '39', '26', '25', '36', '27', '43', '25', '21', '40', '35', '23', '25'], 'Average per Movie': ['118.80', '69.20', '73.30', '98.70', '74.50', '100.30', '99.60', '74.90', '57.80', '90.30', '86.70', '66.90', '53.20', '73.80', '451.80', '101.60', '131.20', '62.50', '79.70', '39.00', '89.20', '46.70', '125.70', '84.90', '76.40', '78.40', '165.60', '56.30', '71.90', '65.10', '77.90', '75.40', '157.80', '58.30', '67.00', '83.20', '155.00', '89.80', '66.70', '99.30', '102.30', '70.80', '94.30', '58.70', '100.70', '119.10', '61.60', '70.40', '106.90', '96.70'], '#1 Movie': ['Star Wars: The Force Awakens', 'The Avengers', 'The Dark Knight', 'Toy Story 3', 'The Avengers', 'Shrek 2', 'War of the Worlds', \"Dead Man's Chest\", 'The Dark Knight', 'The Avengers', 'The Dark Knight', 'Night at the Museum', 'Sixth Sense', 'The Avengers', 'Star Wars: The Force Awakens', 'Return of the King', 'Independence Day', 'Catching Fire', 'The Martian', 'Meet the Fockers', 'Shrek 2', 'The Phantom Menace', 'Star Wars: The Force Awakens', 'Avengers: Age of Ultron', 'Meet the Fockers', 'Harry Potter / Deathly Hallows (P2)', \"Dead Man's Chest\", 'Catching Fire', 'Return of the King', \"Ocean's Eleven\", 'Catching Fire', 'Harry Potter / Deathly Hallows (P2)', 'Harry Potter / Deathly Hallows (P2)', 'Men in Black', 'World War Z', 'Hotel Transylvania 2', 'Harry Potter / Deathly Hallows (P2)', 'The LEGO Movie', 'Night at the Museum', 'Avengers: Age of Ultron', 'American Sniper', 'Transformers 4', 'The Grinch', 'Meet the Fockers', 'Titanic', 'The Avengers', 'Catching Fire', 'Minions', 'The Avengers', 'The Dark Knight Rises'], 'Gross': ['936.70', '623.40', '534.90', '415.00', '623.40', '441.20', '234.30', '423.30', '534.90', '623.40', '534.90', '250.90', '293.50', '623.40', '936.70', '377.80', '306.20', '424.70', '228.40', '279.30', '441.20', '474.50', '936.70', '459.00', '279.30', '381.00', '423.30', '424.70', '377.80', '183.40', '424.70', '381.00', '381.00', '250.70', '202.40', '169.70', '381.00', '257.80', '250.90', '459.00', '350.10', '245.40', '260.00', '279.30', '658.70', '623.40', '424.70', '336.00', '623.40', '448.10']}\n"
     ]
    }
   ],
   "source": [
    "#para cada linha, com exceção da primeira '0' (cabeçalho), \n",
    "for linha in linhas[1:]:\n",
    "    #faz-se a chamada da funçao (passando a linha tratada), \n",
    "    valores = linha.strip().split(',')\n",
    "    #associando cada valor a uma chave com zip() que cria uma combinação de pares\n",
    "    for chave, valor in zip(cabecalho, valores):\n",
    "        #dicionario no índice chave recebe o valor, isso será feito em todas as linhas\n",
    "        dicionario[chave].append(valor.strip())\n",
    "print(dicionario) "
   ]
  },
  {
   "cell_type": "markdown",
   "metadata": {},
   "source": [
    "3. Etapa 1 - Apresentar o ator/atriz com o maior número de filmes e sua respectiva quantidade"
   ]
  },
  {
   "cell_type": "code",
   "execution_count": 3,
   "metadata": {},
   "outputs": [],
   "source": [
    "lista_numero = dicionario['Number of Movies']\n",
    "numero_de_filmes_int = [int(numero) for numero in lista_numero]\n",
    "\n",
    "maior_qtd_filmes = max(numero_de_filmes_int) #retorna o maior valor\n",
    "indice_maior_valor = numero_de_filmes_int.index(maior_qtd_filmes) #retorna o índice do maior valor\n",
    "\n",
    "ator_com_mais_filmes = dicionario['Actor'][indice_maior_valor] #retorna o ator na mesma posição do maior valor\n",
    "ator_com_mais_filmes = ator_com_mais_filmes.strip('\"') #retira as aspas para a apresentação"
   ]
  },
  {
   "cell_type": "markdown",
   "metadata": {},
   "source": [
    "3.1. Gravação do resultado em arquivo etapa-1.txt  "
   ]
  },
  {
   "cell_type": "code",
   "execution_count": 4,
   "metadata": {},
   "outputs": [],
   "source": [
    "with open('etapa-1.txt', 'w') as etapa1: #abrindo o arquivo com a finalidade de escrita\n",
    "    etapa1.write(f'O Ator {ator_com_mais_filmes} é aquele com maior quantidade de filmes, totalizando {maior_qtd_filmes}')"
   ]
  },
  {
   "cell_type": "markdown",
   "metadata": {},
   "source": [
    "4. Etapa 2 - Considerando a coluna atores, apresente a média de receita de bilheteria bruta dos principais filmes"
   ]
  },
  {
   "cell_type": "code",
   "execution_count": 5,
   "metadata": {},
   "outputs": [],
   "source": [
    "# transformando os valores contidos da coluna gross em float\n",
    "valores_gross = dicionario['Gross']\n",
    "valores_gross_float = [float(valor) for valor in valores_gross]\n",
    "\n",
    "#cáculo da média\n",
    "media =  sum(valores_gross_float) / len(valores_gross_float)"
   ]
  },
  {
   "cell_type": "markdown",
   "metadata": {},
   "source": [
    "4.1. Gravação do resultado em arquivo etapa-2.txt"
   ]
  },
  {
   "cell_type": "code",
   "execution_count": 6,
   "metadata": {},
   "outputs": [],
   "source": [
    "with open('etapa-2.txt', 'w') as etapa2:\n",
    "    etapa2.write(f'A média de receita de bilheteira bruta dos principais filmes é: {media:.2f} milhões de dólares')"
   ]
  },
  {
   "cell_type": "markdown",
   "metadata": {},
   "source": [
    "5. Etapa 3 - Apresentar o ator/atriz com maior média de receita de bilheteria por filme."
   ]
  },
  {
   "cell_type": "code",
   "execution_count": 7,
   "metadata": {},
   "outputs": [],
   "source": [
    "medias = dicionario['Average per Movie']\n",
    "medias_float = [float(media) for media in medias]\n",
    "\n",
    "maior_media_por_filme = max(medias_float)\n",
    "indice_maior_media = medias_float.index(maior_media_por_filme)\n",
    "\n",
    "ator_com_maior_media = dicionario['Actor'][indice_maior_media]\n",
    "ator_com_maior_media = ator_com_maior_media.strip('\"')"
   ]
  },
  {
   "cell_type": "markdown",
   "metadata": {},
   "source": [
    "5.1. Gravação do resultado em arquivo etapa-3.txt"
   ]
  },
  {
   "cell_type": "code",
   "execution_count": 8,
   "metadata": {},
   "outputs": [],
   "source": [
    "with open('etapa-3.txt', 'w') as etapa3:\n",
    "    etapa3.write(f'O ator com maior média receita de bilheteria por filme é: {ator_com_maior_media}')"
   ]
  },
  {
   "cell_type": "markdown",
   "metadata": {},
   "source": [
    "6. Etapa 4 - Conte as ocorrências dos filmes presentes na coluna '#1 Movie' e liste-as de forma decrescente"
   ]
  },
  {
   "cell_type": "code",
   "execution_count": 9,
   "metadata": {},
   "outputs": [],
   "source": [
    "contagem_filmes = {} # criando um dicionario que armazenará a contagem de ocorrências de cada filme\n",
    "\n",
    "# Iterando pela lista de filmes\n",
    "for filme in dicionario['#1 Movie']:\n",
    "    if filme in contagem_filmes:\n",
    "        contagem_filmes[filme] += 1 # a partir da segunda ocorrência incrementa-se o value (contagem)\n",
    "    else:\n",
    "        contagem_filmes[filme] = 1 #na primeira ocorrência do filme, adiciona-o como chave e seu value é 1\n",
    "\n",
    "# Ordenando os filmes de forma decrescente\n",
    "filmes_ordenados = sorted(contagem_filmes.items(), key=lambda x: x[1], reverse=True)\n",
    "#utiliza-se a função sorted para realizar a ordenação e como parâmetro:\n",
    "#contagem_filmes.items() - que retornará tuplas/pares (nome_filme, contagem)\n",
    "#função lambda que considera x[1] a parte da contagem\n",
    "#reverse= True inverte a ordenação que retorna do maior para o menor"
   ]
  },
  {
   "cell_type": "markdown",
   "metadata": {},
   "source": [
    "6.1. Gravação no arquivo etapa-4.txt"
   ]
  },
  {
   "cell_type": "code",
   "execution_count": 10,
   "metadata": {},
   "outputs": [],
   "source": [
    "with open('etapa-4.txt', 'w') as etapa4:\n",
    "    for filme, quantidade in filmes_ordenados:\n",
    "        etapa4.write(f'O filme \"{filme}\" aparece {quantidade} vez(es) no dataset.\\n')"
   ]
  },
  {
   "cell_type": "markdown",
   "metadata": {},
   "source": [
    "7. Etapa 5 - Apresente os atores ordenando por sua receita bruta de bilheteria de seus filmes de maneira decrescente"
   ]
  },
  {
   "cell_type": "code",
   "execution_count": 11,
   "metadata": {},
   "outputs": [],
   "source": [
    "# Conversão da coluna 'Total Gross' para float\n",
    "total_gross = dicionario['Total Gross']\n",
    "total_gross_float = [float(gross) for gross in total_gross]\n",
    "\n",
    "atores_e_gross = list(zip(dicionario['Actor'], total_gross_float))\n",
    "\n",
    "atores_ordenados = sorted(atores_e_gross, key=lambda x: x[1], reverse=True)"
   ]
  },
  {
   "cell_type": "markdown",
   "metadata": {},
   "source": [
    "7.1 Gravação no arquivo etapa-5.txt"
   ]
  },
  {
   "cell_type": "code",
   "execution_count": 12,
   "metadata": {},
   "outputs": [],
   "source": [
    "with open('etapa-5.txt', 'w') as etapa5:\n",
    "    for ator, gross in atores_ordenados:\n",
    "        etapa5.write(f'{ator} - {gross}\\n')"
   ]
  }
 ],
 "metadata": {
  "kernelspec": {
   "display_name": "base",
   "language": "python",
   "name": "python3"
  },
  "language_info": {
   "codemirror_mode": {
    "name": "ipython",
    "version": 3
   },
   "file_extension": ".py",
   "mimetype": "text/x-python",
   "name": "python",
   "nbconvert_exporter": "python",
   "pygments_lexer": "ipython3",
   "version": "3.12.7"
  }
 },
 "nbformat": 4,
 "nbformat_minor": 2
}
