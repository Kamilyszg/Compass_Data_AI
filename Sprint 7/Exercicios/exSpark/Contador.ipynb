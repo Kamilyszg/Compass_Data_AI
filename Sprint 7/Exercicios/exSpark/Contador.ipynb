{
 "cells": [
  {
   "cell_type": "code",
   "execution_count": null,
   "id": "c7001701-a274-4cf3-9f5e-cad171f8a7a5",
   "metadata": {},
   "outputs": [],
   "source": [
    "!pip3 install findspark"
   ]
  },
  {
   "cell_type": "code",
   "execution_count": null,
   "id": "3052068b-f2c8-4a20-ac49-fce9c0376bd1",
   "metadata": {},
   "outputs": [],
   "source": [
    "import findspark\n",
    "findspark.init()"
   ]
  },
  {
   "cell_type": "code",
   "execution_count": 4,
   "id": "b760d51c-d58d-4c18-a7c2-96f524a1f6a1",
   "metadata": {},
   "outputs": [],
   "source": [
    "from pyspark.sql import SparkSession"
   ]
  },
  {
   "cell_type": "code",
   "execution_count": 5,
   "id": "b0c9cfd4-d928-4de0-9b10-10d59b8a3a85",
   "metadata": {},
   "outputs": [],
   "source": [
    "spark = SparkSession.builder.appName(\"Contador\").getOrCreate()"
   ]
  },
  {
   "cell_type": "code",
   "execution_count": 8,
   "id": "23992b28-db55-46aa-bd0f-9d2eac84d2f1",
   "metadata": {},
   "outputs": [],
   "source": [
    "readme = spark.read.text(\"./README.md\")"
   ]
  },
  {
   "cell_type": "code",
   "execution_count": 10,
   "id": "3b265b2d-7f25-4ba8-9f6e-4166006a1020",
   "metadata": {},
   "outputs": [],
   "source": [
    "total_palavras = readme.rdd.flatMap(lambda line: line[0].split()).count()"
   ]
  },
  {
   "cell_type": "code",
   "execution_count": null,
   "id": "28399b2a-968b-4e72-ae1b-8fe0d126a070",
   "metadata": {},
   "outputs": [],
   "source": [
    "print(f\"Total de palavras no arquivo README.md: {total_palavras}\")"
   ]
  },
  {
   "cell_type": "code",
   "execution_count": null,
   "id": "6fe4062a",
   "metadata": {},
   "outputs": [],
   "source": [
    "spark.stop()"
   ]
  }
 ],
 "metadata": {
  "kernelspec": {
   "display_name": "Python 3",
   "language": "python",
   "name": "python3"
  },
  "language_info": {
   "codemirror_mode": {
    "name": "ipython",
    "version": 3
   },
   "file_extension": ".py",
   "mimetype": "text/x-python",
   "name": "python",
   "nbconvert_exporter": "python",
   "pygments_lexer": "ipython3",
   "version": "3.13.0"
  }
 },
 "nbformat": 4,
 "nbformat_minor": 5
}
